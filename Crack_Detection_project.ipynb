#Data Loading

**Download ZIP files and unzip into Colab environment**
"""

# Download training/validation data file (40000 concrete images with and without cracks)
!wget https://www.josephambrose.com/concrete_data.zip
# Download testing data file (56000 images of pavements, decks, and walls with and without cracks)
!wget https://www.josephambrose.com/SDNET.zip

import os
!unzip -q concrete_data.zip
!unzip -q SDNET.zip
print(os.listdir())

"""##Data Visualization"""

import numpy as np
import matplotlib.pyplot as plt
import PIL
from PIL import Image

negative_images = sorted(os.listdir('concrete_data/negative'))[0:]
print("Negative images (n =",len(negative_images), "):", negative_images[:10])

positive_images = sorted(os.listdir('concrete_data/positive'))[0:]
print("Positive images (n =",len(positive_images), "):", positive_images[:10])

print('Each image has the following shape: ',end='')
np.array(Image.open(f'concrete_data/positive/{positive_images[10]}')).shape

"""**Images with Crack**"""

figure, position = plt.subplots(nrows=1, ncols=10, figsize=(30, 4)) 
index = 0
for current_position in position:
    image_data = Image.open(f'concrete_data/positive/{positive_images[index]}')
    current_position.imshow(image_data)
    index = index + 1
figure.suptitle('Positive Images (Images with Cracks)') 
plt.show()

"""**Images without Crack**"""

figure, position = plt.subplots(nrows=1, ncols=10, figsize=(30, 4)) 
index = 0
for current_position in position:
    image_data = Image.open(f'concrete_data/negative/{negative_images[index]}')
    current_position.imshow(image_data)
    index = index + 1
figure.suptitle('Negative Images (Images without cracks)') 
plt.show()


