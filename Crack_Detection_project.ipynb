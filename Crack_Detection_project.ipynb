# Download training/validation data file (40000 concrete images with and without cracks)
!wget https://www.josephambrose.com/concrete_data.zip
