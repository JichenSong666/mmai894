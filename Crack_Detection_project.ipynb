{
  "nbformat": 4,
  "nbformat_minor": 0,
  "metadata": {
    "kernelspec": {
      "name": "python3",
      "display_name": "Python 3"
    },
    "colab": {
      "name": " MMAI 2021 891 Final Project Example.ipynb",
      "provenance": [],
      "collapsed_sections": [],
      "toc_visible": true
    }
  },
  "cells": [
    {
      "cell_type": "markdown",
      "metadata": {
        "id": "HKmorPdno_n_"
      },
      "source": [
        "# Kiva Project - Example Notebook\n",
        "\n",
        "Predict whether a Kiva loan application will default.\n",
        "\n",
        "- Stephen W. Thomas\n",
        "- Used for MMAI 891."
      ]
    },
    {
      "cell_type": "markdown",
      "metadata": {
        "id": "oZFTCX4DqmRO"
      },
      "source": [
        "# Preliminaries: Inspect and Set up environment"
      ]
    },
    {
      "cell_type": "code",
      "metadata": {
        "colab": {
          "base_uri": "https://localhost:8080/"
        },
        "id": "LfOMt1lErLhZ",
        "outputId": "21409cf6-f1ed-468a-a90f-b627a148cf7d"
      },
      "source": [
        "!which python"
      ],
      "execution_count": null,
      "outputs": [
        {
          "output_type": "stream",
          "text": [
            "/usr/local/bin/python\n"
          ],
          "name": "stdout"
        }
      ]
    },
    {
      "cell_type": "code",
      "metadata": {
        "colab": {
          "base_uri": "https://localhost:8080/"
        },
        "id": "aub2w1-arM5K",
        "outputId": "762cfd81-dd11-4660-8f3d-9fcbe6bc4633"
      },
      "source": [
        "!python --version"
      ],
      "execution_count": null,
      "outputs": [
        {
          "output_type": "stream",
          "text": [
            "Python 3.7.10\n"
          ],
          "name": "stdout"
        }
      ]
    },
    {
      "cell_type": "code",
      "metadata": {
        "colab": {
          "base_uri": "https://localhost:8080/"
        },
        "id": "E9Y_n_8UrO9i",
        "outputId": "683eb3f1-13d4-4dd6-d658-f0ee2f5b6e54"
      },
      "source": [
        "!echo $PYTHONPATH"
      ],
      "execution_count": null,
      "outputs": [
        {
          "output_type": "stream",
          "text": [
            "/env/python\n"
          ],
          "name": "stdout"
        }
      ]
    },
    {
      "cell_type": "code",
      "metadata": {
        "colab": {
          "base_uri": "https://localhost:8080/"
        },
        "id": "sUh4JyAIpagr",
        "outputId": "88e8316d-4168-4f12-957d-691af69eb1fd"
      },
      "source": [
        "pip install unidecode textstat"
      ],
      "execution_count": null,
      "outputs": [
        {
          "output_type": "stream",
          "text": [
            "Requirement already satisfied: unidecode in /usr/local/lib/python3.7/dist-packages (1.2.0)\n",
            "Requirement already satisfied: textstat in /usr/local/lib/python3.7/dist-packages (0.7.0)\n",
            "Requirement already satisfied: pyphen in /usr/local/lib/python3.7/dist-packages (from textstat) (0.10.0)\n"
          ],
          "name": "stdout"
        }
      ]
    },
    {
      "cell_type": "code",
      "metadata": {
        "colab": {
          "base_uri": "https://localhost:8080/"
        },
        "id": "p24VrihfpgEr",
        "outputId": "1487bed5-0bc1-42c3-9a78-62e71276f11c"
      },
      "source": [
        "import nltk\r\n",
        "nltk.download('stopwords')\r\n",
        "nltk.download('wordnet')"
      ],
      "execution_count": null,
      "outputs": [
        {
          "output_type": "stream",
          "text": [
            "[nltk_data] Downloading package stopwords to /root/nltk_data...\n",
            "[nltk_data]   Package stopwords is already up-to-date!\n",
            "[nltk_data] Downloading package wordnet to /root/nltk_data...\n",
            "[nltk_data]   Package wordnet is already up-to-date!\n"
          ],
          "name": "stdout"
        },
        {
          "output_type": "execute_result",
          "data": {
            "text/plain": [
              "True"
            ]
          },
          "metadata": {
            "tags": []
          },
          "execution_count": 5
        }
      ]
    },
    {
      "cell_type": "code",
      "metadata": {
        "id": "AGs25flao_oJ"
      },
      "source": [
        "import pandas as pd\n",
        "import numpy as np\n",
        "\n",
        "from IPython.core.interactiveshell import InteractiveShell\n",
        "InteractiveShell.ast_node_interactivity = \"all\""
      ],
      "execution_count": null,
      "outputs": []
    },
    {
      "cell_type": "code",
      "metadata": {
        "id": "Qrot1IOkqIxH"
      },
      "source": [
        "import string"
      ],
      "execution_count": null,
      "outputs": []
    },
    {
      "cell_type": "code",
      "metadata": {
        "colab": {
          "base_uri": "https://localhost:8080/"
        },
        "id": "xj34Jz-Do_oK",
        "outputId": "e8c3d127-f989-4ff3-8788-42124cecfe18"
      },
      "source": [
        "import datetime\n",
        "print(datetime.datetime.now())"
      ],
      "execution_count": null,
      "outputs": [
        {
          "output_type": "stream",
          "text": [
            "2021-02-24 14:22:02.193844\n"
          ],
          "name": "stdout"
        }
      ]
    },
    {
      "cell_type": "markdown",
      "metadata": {
        "id": "qj1NSQelo_oN"
      },
      "source": [
        "# Read Data\r\n",
        "\r\n",
        "We'll read the data from the links that Uncle Steve provided."
      ]
    },
    {
      "cell_type": "code",
      "metadata": {
        "id": "60UNWiX8YmLi"
      },
      "source": [
        "# The labeled training data\r\n",
        "df = pd.read_csv(\"https://drive.google.com/uc?export=download&id=1dzzVbgHphbCf7kvq9IKiIhwzmxPbuH4s\")"
      ],
      "execution_count": null,
      "outputs": []
    },
    {
      "cell_type": "code",
      "metadata": {
        "colab": {
          "base_uri": "https://localhost:8080/"
        },
        "id": "Qeavkicwo_oN",
        "outputId": "1bd10114-945a-483d-b0d8-3bf4d5962976"
      },
      "source": [
        "df.info()"
      ],
      "execution_count": null,
      "outputs": [
        {
          "output_type": "stream",
          "text": [
            "<class 'pandas.core.frame.DataFrame'>\n",
            "RangeIndex: 6138 entries, 0 to 6137\n",
            "Data columns (total 3 columns):\n",
            " #   Column     Non-Null Count  Dtype \n",
            "---  ------     --------------  ----- \n",
            " 0   loan_id    6138 non-null   int64 \n",
            " 1   en_clean   6138 non-null   object\n",
            " 2   defaulted  6138 non-null   int64 \n",
            "dtypes: int64(2), object(1)\n",
            "memory usage: 144.0+ KB\n"
          ],
          "name": "stdout"
        }
      ]
    },
    {
      "cell_type": "markdown",
      "metadata": {
        "id": "m7FIkMnao_oO"
      },
      "source": [
        "# EDA"
      ]
    },
    {
      "cell_type": "code",
      "metadata": {
        "colab": {
          "base_uri": "https://localhost:8080/",
          "height": 204
        },
        "id": "cgek8ghwo_oP",
        "outputId": "65f1cb50-6591-4255-ea88-44a89eb1b791"
      },
      "source": [
        "df.head()"
      ],
      "execution_count": null,
      "outputs": [
        {
          "output_type": "execute_result",
          "data": {
            "text/html": [
              "<div>\n",
              "<style scoped>\n",
              "    .dataframe tbody tr th:only-of-type {\n",
              "        vertical-align: middle;\n",
              "    }\n",
              "\n",
              "    .dataframe tbody tr th {\n",
              "        vertical-align: top;\n",
              "    }\n",
              "\n",
              "    .dataframe thead th {\n",
              "        text-align: right;\n",
              "    }\n",
              "</style>\n",
              "<table border=\"1\" class=\"dataframe\">\n",
              "  <thead>\n",
              "    <tr style=\"text-align: right;\">\n",
              "      <th></th>\n",
              "      <th>loan_id</th>\n",
              "      <th>en_clean</th>\n",
              "      <th>defaulted</th>\n",
              "    </tr>\n",
              "  </thead>\n",
              "  <tbody>\n",
              "    <tr>\n",
              "      <th>0</th>\n",
              "      <td>7779</td>\n",
              "      <td>She opened a colmado out of the side of her ho...</td>\n",
              "      <td>0</td>\n",
              "    </tr>\n",
              "    <tr>\n",
              "      <th>1</th>\n",
              "      <td>2777</td>\n",
              "      <td>(First Loan):  Joffre continues to run his loc...</td>\n",
              "      <td>1</td>\n",
              "    </tr>\n",
              "    <tr>\n",
              "      <th>2</th>\n",
              "      <td>6007</td>\n",
              "      <td>Dina Santana is the mother of two children, Ju...</td>\n",
              "      <td>0</td>\n",
              "    </tr>\n",
              "    <tr>\n",
              "      <th>3</th>\n",
              "      <td>76</td>\n",
              "      <td>Rosemary is 50 years old, single, and has 6 ch...</td>\n",
              "      <td>1</td>\n",
              "    </tr>\n",
              "    <tr>\n",
              "      <th>4</th>\n",
              "      <td>4217</td>\n",
              "      <td>Segundo has a shop where he sells animal feed,...</td>\n",
              "      <td>0</td>\n",
              "    </tr>\n",
              "  </tbody>\n",
              "</table>\n",
              "</div>"
            ],
            "text/plain": [
              "   loan_id                                           en_clean  defaulted\n",
              "0     7779  She opened a colmado out of the side of her ho...          0\n",
              "1     2777  (First Loan):  Joffre continues to run his loc...          1\n",
              "2     6007  Dina Santana is the mother of two children, Ju...          0\n",
              "3       76  Rosemary is 50 years old, single, and has 6 ch...          1\n",
              "4     4217  Segundo has a shop where he sells animal feed,...          0"
            ]
          },
          "metadata": {
            "tags": []
          },
          "execution_count": 11
        }
      ]
    },
    {
      "cell_type": "code",
      "metadata": {
        "colab": {
          "base_uri": "https://localhost:8080/"
        },
        "id": "rMtMpjHSGbMz",
        "outputId": "99663d43-552c-4f4b-f382-8ae44cbc62de"
      },
      "source": [
        "df['defaulted'].value_counts()"
      ],
      "execution_count": null,
      "outputs": [
        {
          "output_type": "execute_result",
          "data": {
            "text/plain": [
              "0    3102\n",
              "1    3036\n",
              "Name: defaulted, dtype: int64"
            ]
          },
          "metadata": {
            "tags": []
          },
          "execution_count": 12
        }
      ]
    },
    {
      "cell_type": "code",
      "metadata": {
        "id": "a0scBscjo_oQ"
      },
      "source": [
        "import spacy\n",
        "from spacy import displacy\n",
        "nlp = spacy.load(\"en_core_web_sm\")"
      ],
      "execution_count": null,
      "outputs": []
    },
    {
      "cell_type": "code",
      "metadata": {
        "colab": {
          "base_uri": "https://localhost:8080/",
          "height": 192
        },
        "id": "ez0AoK6-o_oQ",
        "outputId": "7cf4df3d-619e-4027-b4f8-b6943a5bc358"
      },
      "source": [
        "# We can use spacy to show all the named entities in a given document.\n",
        "\n",
        "doc = nlp(df.iloc[4001].en_clean)\n",
        "displacy.render(doc, style=\"ent\", jupyter=True)"
      ],
      "execution_count": null,
      "outputs": [
        {
          "output_type": "display_data",
          "data": {
            "text/html": [
              "<span class=\"tex2jax_ignore\"><div class=\"entities\" style=\"line-height: 2.5; direction: ltr\">NANCY WANGUI NGIGE is a 42-year-old married lady; she has \n",
              "<mark class=\"entity\" style=\"background: #e4e7d2; padding: 0.45em 0.6em; margin: 0 0.25em; line-height: 1; border-radius: 0.35em;\">\n",
              "    five\n",
              "    <span style=\"font-size: 0.8em; font-weight: bold; line-height: 1; border-radius: 0.35em; text-transform: uppercase; vertical-align: middle; margin-left: 0.5rem\">CARDINAL</span>\n",
              "</mark>\n",
              " children, \n",
              "<mark class=\"entity\" style=\"background: #e4e7d2; padding: 0.45em 0.6em; margin: 0 0.25em; line-height: 1; border-radius: 0.35em;\">\n",
              "    two\n",
              "    <span style=\"font-size: 0.8em; font-weight: bold; line-height: 1; border-radius: 0.35em; text-transform: uppercase; vertical-align: middle; margin-left: 0.5rem\">CARDINAL</span>\n",
              "</mark>\n",
              " being in school. \n",
              "<mark class=\"entity\" style=\"background: #7aecec; padding: 0.45em 0.6em; margin: 0 0.25em; line-height: 1; border-radius: 0.35em;\">\n",
              "    Nancys\n",
              "    <span style=\"font-size: 0.8em; font-weight: bold; line-height: 1; border-radius: 0.35em; text-transform: uppercase; vertical-align: middle; margin-left: 0.5rem\">ORG</span>\n",
              "</mark>\n",
              " husband developed kidney problems \n",
              "<mark class=\"entity\" style=\"background: #bfe1d9; padding: 0.45em 0.6em; margin: 0 0.25em; line-height: 1; border-radius: 0.35em;\">\n",
              "    a year ago\n",
              "    <span style=\"font-size: 0.8em; font-weight: bold; line-height: 1; border-radius: 0.35em; text-transform: uppercase; vertical-align: middle; margin-left: 0.5rem\">DATE</span>\n",
              "</mark>\n",
              " and she is the sole breadwinner of the entire family. She also takes care of her elderly mother, who is diabetic. \n",
              "<mark class=\"entity\" style=\"background: #aa9cfc; padding: 0.45em 0.6em; margin: 0 0.25em; line-height: 1; border-radius: 0.35em;\">\n",
              "    Nancy\n",
              "    <span style=\"font-size: 0.8em; font-weight: bold; line-height: 1; border-radius: 0.35em; text-transform: uppercase; vertical-align: middle; margin-left: 0.5rem\">PERSON</span>\n",
              "</mark>\n",
              " trained as a nurse, but quit after practising for \n",
              "<mark class=\"entity\" style=\"background: #bfe1d9; padding: 0.45em 0.6em; margin: 0 0.25em; line-height: 1; border-radius: 0.35em;\">\n",
              "    six years\n",
              "    <span style=\"font-size: 0.8em; font-weight: bold; line-height: 1; border-radius: 0.35em; text-transform: uppercase; vertical-align: middle; margin-left: 0.5rem\">DATE</span>\n",
              "</mark>\n",
              ". She started a bar and restaurant business \n",
              "<mark class=\"entity\" style=\"background: #bfe1d9; padding: 0.45em 0.6em; margin: 0 0.25em; line-height: 1; border-radius: 0.35em;\">\n",
              "    10 years ago\n",
              "    <span style=\"font-size: 0.8em; font-weight: bold; line-height: 1; border-radius: 0.35em; text-transform: uppercase; vertical-align: middle; margin-left: 0.5rem\">DATE</span>\n",
              "</mark>\n",
              ". Her husband's and her mother's hospital bills have adversely affected the business. To revamp the business and be able to continue supporting her family, \n",
              "<mark class=\"entity\" style=\"background: #aa9cfc; padding: 0.45em 0.6em; margin: 0 0.25em; line-height: 1; border-radius: 0.35em;\">\n",
              "    Nancy\n",
              "    <span style=\"font-size: 0.8em; font-weight: bold; line-height: 1; border-radius: 0.35em; text-transform: uppercase; vertical-align: middle; margin-left: 0.5rem\">PERSON</span>\n",
              "</mark>\n",
              " is requesting a loan of US$\n",
              "<mark class=\"entity\" style=\"background: #e4e7d2; padding: 0.45em 0.6em; margin: 0 0.25em; line-height: 1; border-radius: 0.35em;\">\n",
              "    1000\n",
              "    <span style=\"font-size: 0.8em; font-weight: bold; line-height: 1; border-radius: 0.35em; text-transform: uppercase; vertical-align: middle; margin-left: 0.5rem\">MONEY</span>\n",
              "</mark>\n",
              ", which she intends to use as follows: US$\n",
              "<mark class=\"entity\" style=\"background: #e4e7d2; padding: 0.45em 0.6em; margin: 0 0.25em; line-height: 1; border-radius: 0.35em;\">\n",
              "    500\n",
              "    <span style=\"font-size: 0.8em; font-weight: bold; line-height: 1; border-radius: 0.35em; text-transform: uppercase; vertical-align: middle; margin-left: 0.5rem\">MONEY</span>\n",
              "</mark>\n",
              " to increase her stock, and US$\n",
              "<mark class=\"entity\" style=\"background: #e4e7d2; padding: 0.45em 0.6em; margin: 0 0.25em; line-height: 1; border-radius: 0.35em;\">\n",
              "    500\n",
              "    <span style=\"font-size: 0.8em; font-weight: bold; line-height: 1; border-radius: 0.35em; text-transform: uppercase; vertical-align: middle; margin-left: 0.5rem\">MONEY</span>\n",
              "</mark>\n",
              " to purchase a deep freezer for her restaurant. \n",
              "<mark class=\"entity\" style=\"background: #aa9cfc; padding: 0.45em 0.6em; margin: 0 0.25em; line-height: 1; border-radius: 0.35em;\">\n",
              "    Nancy\n",
              "    <span style=\"font-size: 0.8em; font-weight: bold; line-height: 1; border-radius: 0.35em; text-transform: uppercase; vertical-align: middle; margin-left: 0.5rem\">PERSON</span>\n",
              "</mark>\n",
              " is a very committed business woman and she will definitely repay the loan.</div></span>"
            ],
            "text/plain": [
              "<IPython.core.display.HTML object>"
            ]
          },
          "metadata": {
            "tags": []
          }
        }
      ]
    },
    {
      "cell_type": "markdown",
      "metadata": {
        "id": "RjUgRW1N6ppS"
      },
      "source": [
        "# Train Test Split"
      ]
    },
    {
      "cell_type": "code",
      "metadata": {
        "id": "ksKqf_fV6pIO"
      },
      "source": [
        "from sklearn.model_selection import train_test_split\r\n",
        "\r\n",
        "X = df['en_clean']\r\n",
        "y = df['defaulted']\r\n",
        "\r\n",
        "# So that we can evaluate how well our model is performing, we split our training data\r\n",
        "# into training and validation.\r\n",
        "\r\n",
        "X_train, X_val, y_train, y_val = train_test_split(X, y, random_state=42)"
      ],
      "execution_count": null,
      "outputs": []
    },
    {
      "cell_type": "markdown",
      "metadata": {
        "id": "598AtzLCo_oV"
      },
      "source": [
        "# Feature Engineering and Extraction Pipeline"
      ]
    },
    {
      "cell_type": "code",
      "metadata": {
        "id": "y4D4cu49o_oS"
      },
      "source": [
        "import re\n",
        "import unidecode\n",
        "\n",
        "# A nice preprocessing function that we can pass to CountVectorizer/TfidfVectorizer\n",
        "def my_preprocess(doc):\n",
        "\n",
        "    # Lowercase everything\n",
        "    res = doc.lower()\n",
        "    \n",
        "    # Remove any \"weird\" characters\n",
        "    res = unidecode.unidecode(res)\n",
        "\n",
        "    # TODO: What else?\n",
        "\n",
        "    return res"
      ],
      "execution_count": null,
      "outputs": []
    },
    {
      "cell_type": "code",
      "metadata": {
        "id": "TOad40BVj5gU"
      },
      "source": [
        "# These functions will calculate additional features on the document.\r\n",
        "# They will be put into the Pipeline, called via the FunctionTransformer() function.\r\n",
        "# Each one takes an entire corpus (as a list of documents), and should return\r\n",
        "# an array of feature values (one for each document in the corpus).\r\n",
        "# These functions can do anything they want; I've made most of them quick\r\n",
        "# one-liners Hopefully the names of the functions will make them self explanitory.\r\n",
        "\r\n",
        "def doc_length(corpus):\r\n",
        "    return np.array([len(doc) for doc in corpus]).reshape(-1, 1)\r\n",
        "\r\n",
        "def num_exclamation_marks(corpus):\r\n",
        "    return np.array([doc.count('!') for doc in corpus]).reshape(-1, 1)"
      ],
      "execution_count": null,
      "outputs": []
    },
    {
      "cell_type": "code",
      "metadata": {
        "id": "AjQQB8FRkFm-"
      },
      "source": [
        "from sklearn.pipeline import Pipeline, FeatureUnion\r\n",
        "from sklearn.feature_extraction.text import TfidfVectorizer, CountVectorizer\r\n",
        "from sklearn.ensemble import RandomForestClassifier\r\n",
        "\r\n",
        "from sklearn.preprocessing import FunctionTransformer\r\n",
        "\r\n",
        "# This vectorizer will be used to create the BOW features.\r\n",
        "vectorizer = TfidfVectorizer(preprocessor=my_preprocess, \r\n",
        "                             max_features = 100, \r\n",
        "                             use_idf=True)\r\n",
        "\r\n",
        "rf = RandomForestClassifier(criterion='entropy', random_state=223)\r\n",
        "\r\n",
        "# We will \"union\" together the BOW features and the custom-created features we\r\n",
        "# created in the cell above.\r\n",
        "feature_processing =  FeatureUnion([ \r\n",
        "    ('bow', Pipeline([('vectorizer', vectorizer), ])),\r\n",
        "    ('doc_length', FunctionTransformer(doc_length, validate=False)),\r\n",
        "    ('num_exclamation_marks', FunctionTransformer(num_exclamation_marks, validate=False)),  \r\n",
        "])\r\n",
        "\r\n",
        "pipe = Pipeline([('features', feature_processing), ('clf', rf)])"
      ],
      "execution_count": null,
      "outputs": []
    },
    {
      "cell_type": "markdown",
      "metadata": {
        "id": "isb2-cFWJ5lX"
      },
      "source": [
        "# Model Training/Tuning/Cross Validation\r\n"
      ]
    },
    {
      "cell_type": "code",
      "metadata": {
        "colab": {
          "base_uri": "https://localhost:8080/"
        },
        "id": "thGaEG4dkv2t",
        "outputId": "9ecc1831-33ac-40d9-ee6f-49f9ca8d3d21"
      },
      "source": [
        "from sklearn.model_selection import GridSearchCV\r\n",
        "\r\n",
        "# The names of the hypter parameters may look a bit funny; it's based on how they\r\n",
        "# are added to the Pipeline object above (and seperated with double underscores)\r\n",
        "param_grid = {\r\n",
        "    'features__bow__vectorizer__max_features': [500, 1000],\r\n",
        "    'features__bow__vectorizer__use_idf': [True, False],\r\n",
        "    'clf__n_estimators': [10, 100],\r\n",
        "}\r\n",
        "\r\n",
        "search = GridSearchCV(pipe, \r\n",
        "                      param_grid, \r\n",
        "                      cv=10, \r\n",
        "                      n_jobs=5, \r\n",
        "                      scoring='f1_macro', \r\n",
        "                      return_train_score=True, \r\n",
        "                      verbose=2)\r\n",
        "\r\n",
        "search = search.fit(X_train, y_train)"
      ],
      "execution_count": null,
      "outputs": [
        {
          "output_type": "stream",
          "text": [
            "Fitting 10 folds for each of 8 candidates, totalling 80 fits\n"
          ],
          "name": "stdout"
        },
        {
          "output_type": "stream",
          "text": [
            "[Parallel(n_jobs=5)]: Using backend LokyBackend with 5 concurrent workers.\n",
            "[Parallel(n_jobs=5)]: Done  31 tasks      | elapsed:   52.7s\n",
            "[Parallel(n_jobs=5)]: Done  80 out of  80 | elapsed:  4.5min finished\n"
          ],
          "name": "stderr"
        }
      ]
    },
    {
      "cell_type": "code",
      "metadata": {
        "colab": {
          "base_uri": "https://localhost:8080/"
        },
        "id": "haxVEq0chNc_",
        "outputId": "f9daabdb-2f12-4bc4-a25f-2e3532773594"
      },
      "source": [
        "print(\"Best parameter (CV score: %0.5f):\" % search.best_score_)\r\n",
        "print(search.best_params_)"
      ],
      "execution_count": null,
      "outputs": [
        {
          "output_type": "stream",
          "text": [
            "Best parameter (CV score: 0.83892):\n",
            "{'clf__n_estimators': 100, 'features__bow__vectorizer__max_features': 1000, 'features__bow__vectorizer__use_idf': True}\n"
          ],
          "name": "stdout"
        }
      ]
    },
    {
      "cell_type": "code",
      "metadata": {
        "colab": {
          "base_uri": "https://localhost:8080/",
          "height": 317
        },
        "id": "sa5zY1t8lQvK",
        "outputId": "64f8d14b-4d14-4b94-f9d4-ca2201276c46"
      },
      "source": [
        "# Print out the results of hyperparmater tuning\r\n",
        "\r\n",
        "def cv_results_to_df(cv_results):\r\n",
        "    results = pd.DataFrame(list(cv_results['params']))\r\n",
        "    results['mean_fit_time'] = cv_results['mean_fit_time']\r\n",
        "    results['mean_score_time'] = cv_results['mean_score_time']\r\n",
        "    results['mean_train_score'] = cv_results['mean_train_score']\r\n",
        "    results['std_train_score'] = cv_results['std_train_score']\r\n",
        "    results['mean_test_score'] = cv_results['mean_test_score']\r\n",
        "    results['std_test_score'] = cv_results['std_test_score']\r\n",
        "    results['rank_test_score'] = cv_results['rank_test_score']\r\n",
        "\r\n",
        "    results = results.sort_values(['mean_test_score'], ascending=False)\r\n",
        "    return results\r\n",
        "\r\n",
        "results = cv_results_to_df(search.cv_results_)\r\n",
        "results"
      ],
      "execution_count": null,
      "outputs": [
        {
          "output_type": "execute_result",
          "data": {
            "text/html": [
              "<div>\n",
              "<style scoped>\n",
              "    .dataframe tbody tr th:only-of-type {\n",
              "        vertical-align: middle;\n",
              "    }\n",
              "\n",
              "    .dataframe tbody tr th {\n",
              "        vertical-align: top;\n",
              "    }\n",
              "\n",
              "    .dataframe thead th {\n",
              "        text-align: right;\n",
              "    }\n",
              "</style>\n",
              "<table border=\"1\" class=\"dataframe\">\n",
              "  <thead>\n",
              "    <tr style=\"text-align: right;\">\n",
              "      <th></th>\n",
              "      <th>clf__n_estimators</th>\n",
              "      <th>features__bow__vectorizer__max_features</th>\n",
              "      <th>features__bow__vectorizer__use_idf</th>\n",
              "      <th>mean_fit_time</th>\n",
              "      <th>mean_score_time</th>\n",
              "      <th>mean_train_score</th>\n",
              "      <th>std_train_score</th>\n",
              "      <th>mean_test_score</th>\n",
              "      <th>std_test_score</th>\n",
              "      <th>rank_test_score</th>\n",
              "    </tr>\n",
              "  </thead>\n",
              "  <tbody>\n",
              "    <tr>\n",
              "      <th>6</th>\n",
              "      <td>100</td>\n",
              "      <td>1000</td>\n",
              "      <td>True</td>\n",
              "      <td>22.585341</td>\n",
              "      <td>0.378492</td>\n",
              "      <td>0.999807</td>\n",
              "      <td>0.000097</td>\n",
              "      <td>0.838921</td>\n",
              "      <td>0.009245</td>\n",
              "      <td>1</td>\n",
              "    </tr>\n",
              "    <tr>\n",
              "      <th>7</th>\n",
              "      <td>100</td>\n",
              "      <td>1000</td>\n",
              "      <td>False</td>\n",
              "      <td>22.197029</td>\n",
              "      <td>0.322462</td>\n",
              "      <td>0.999807</td>\n",
              "      <td>0.000097</td>\n",
              "      <td>0.835037</td>\n",
              "      <td>0.016848</td>\n",
              "      <td>2</td>\n",
              "    </tr>\n",
              "    <tr>\n",
              "      <th>5</th>\n",
              "      <td>100</td>\n",
              "      <td>500</td>\n",
              "      <td>False</td>\n",
              "      <td>23.220338</td>\n",
              "      <td>0.347646</td>\n",
              "      <td>0.999807</td>\n",
              "      <td>0.000097</td>\n",
              "      <td>0.825753</td>\n",
              "      <td>0.014224</td>\n",
              "      <td>3</td>\n",
              "    </tr>\n",
              "    <tr>\n",
              "      <th>4</th>\n",
              "      <td>100</td>\n",
              "      <td>500</td>\n",
              "      <td>True</td>\n",
              "      <td>23.761497</td>\n",
              "      <td>0.356861</td>\n",
              "      <td>0.999807</td>\n",
              "      <td>0.000097</td>\n",
              "      <td>0.824482</td>\n",
              "      <td>0.011324</td>\n",
              "      <td>4</td>\n",
              "    </tr>\n",
              "    <tr>\n",
              "      <th>3</th>\n",
              "      <td>10</td>\n",
              "      <td>1000</td>\n",
              "      <td>False</td>\n",
              "      <td>4.347159</td>\n",
              "      <td>0.275395</td>\n",
              "      <td>0.991742</td>\n",
              "      <td>0.000989</td>\n",
              "      <td>0.782153</td>\n",
              "      <td>0.019094</td>\n",
              "      <td>5</td>\n",
              "    </tr>\n",
              "    <tr>\n",
              "      <th>2</th>\n",
              "      <td>10</td>\n",
              "      <td>1000</td>\n",
              "      <td>True</td>\n",
              "      <td>4.417197</td>\n",
              "      <td>0.281370</td>\n",
              "      <td>0.992008</td>\n",
              "      <td>0.001077</td>\n",
              "      <td>0.778472</td>\n",
              "      <td>0.016039</td>\n",
              "      <td>6</td>\n",
              "    </tr>\n",
              "    <tr>\n",
              "      <th>0</th>\n",
              "      <td>10</td>\n",
              "      <td>500</td>\n",
              "      <td>True</td>\n",
              "      <td>4.538613</td>\n",
              "      <td>0.257739</td>\n",
              "      <td>0.992032</td>\n",
              "      <td>0.000794</td>\n",
              "      <td>0.772137</td>\n",
              "      <td>0.017156</td>\n",
              "      <td>7</td>\n",
              "    </tr>\n",
              "    <tr>\n",
              "      <th>1</th>\n",
              "      <td>10</td>\n",
              "      <td>500</td>\n",
              "      <td>False</td>\n",
              "      <td>4.423592</td>\n",
              "      <td>0.275062</td>\n",
              "      <td>0.991959</td>\n",
              "      <td>0.001080</td>\n",
              "      <td>0.763592</td>\n",
              "      <td>0.023430</td>\n",
              "      <td>8</td>\n",
              "    </tr>\n",
              "  </tbody>\n",
              "</table>\n",
              "</div>"
            ],
            "text/plain": [
              "   clf__n_estimators  ...  rank_test_score\n",
              "6                100  ...                1\n",
              "7                100  ...                2\n",
              "5                100  ...                3\n",
              "4                100  ...                4\n",
              "3                 10  ...                5\n",
              "2                 10  ...                6\n",
              "0                 10  ...                7\n",
              "1                 10  ...                8\n",
              "\n",
              "[8 rows x 10 columns]"
            ]
          },
          "metadata": {
            "tags": []
          },
          "execution_count": 21
        }
      ]
    },
    {
      "cell_type": "markdown",
      "metadata": {
        "id": "z1Oxr9djo_oa"
      },
      "source": [
        "# Model Assessment"
      ]
    },
    {
      "cell_type": "code",
      "metadata": {
        "id": "6NY_yGyRo_oa"
      },
      "source": [
        "y_val_pred = search.predict(X_val)"
      ],
      "execution_count": null,
      "outputs": []
    },
    {
      "cell_type": "code",
      "metadata": {
        "colab": {
          "base_uri": "https://localhost:8080/"
        },
        "id": "QjIY8DDto_ob",
        "outputId": "eed959af-305a-4f6d-d749-e5317da4fcc6"
      },
      "source": [
        "from sklearn.metrics import confusion_matrix\n",
        "from sklearn.metrics import classification_report\n",
        "\n",
        "print(confusion_matrix(y_true = y_val, y_pred = y_val_pred))\n",
        "\n",
        "class_names = [str(x) for x in search.best_estimator_.classes_]\n",
        "print(classification_report(y_true = y_val, y_pred = y_val_pred, target_names=class_names))"
      ],
      "execution_count": null,
      "outputs": [
        {
          "output_type": "stream",
          "text": [
            "[[687  89]\n",
            " [190 569]]\n",
            "              precision    recall  f1-score   support\n",
            "\n",
            "           0       0.78      0.89      0.83       776\n",
            "           1       0.86      0.75      0.80       759\n",
            "\n",
            "    accuracy                           0.82      1535\n",
            "   macro avg       0.82      0.82      0.82      1535\n",
            "weighted avg       0.82      0.82      0.82      1535\n",
            "\n"
          ],
          "name": "stdout"
        }
      ]
    },
    {
      "cell_type": "markdown",
      "metadata": {
        "id": "cxWpS_pSK6El"
      },
      "source": [
        "# Kaggle Predictions"
      ]
    },
    {
      "cell_type": "code",
      "metadata": {
        "id": "GX_6pu4OK46Y"
      },
      "source": [
        "# Read in the unlabeled testing data (for the Kaggle competition)\r\n",
        "df_test = pd.read_csv(\"https://drive.google.com/uc?export=download&id=1EVWfyqQOd_W2uTKrr4JTD2iFrEZHoOHT\")"
      ],
      "execution_count": null,
      "outputs": []
    },
    {
      "cell_type": "code",
      "metadata": {
        "colab": {
          "base_uri": "https://localhost:8080/",
          "height": 204
        },
        "id": "OUqg7Lp-Lqy2",
        "outputId": "2656f8c1-3661-4cf9-8444-6de2cd4530a2"
      },
      "source": [
        "# Use our pipeline to make predictions; then output predictions to a CSV file.\r\n",
        "\r\n",
        "pred_test = search.predict(df_test['en_clean'])\r\n",
        "my_submission = pd.DataFrame({'id': df_test['loan_id'], 'predicted': pred_test})\r\n",
        "my_submission.head()\r\n",
        "\r\n",
        "# This command will save the file to the local cloud instance; it will be deleted\r\n",
        "# as soon as this Notebooks session ends.\r\n",
        "my_submission.to_csv('my_submission.csv', index=False)"
      ],
      "execution_count": null,
      "outputs": [
        {
          "output_type": "execute_result",
          "data": {
            "text/html": [
              "<div>\n",
              "<style scoped>\n",
              "    .dataframe tbody tr th:only-of-type {\n",
              "        vertical-align: middle;\n",
              "    }\n",
              "\n",
              "    .dataframe tbody tr th {\n",
              "        vertical-align: top;\n",
              "    }\n",
              "\n",
              "    .dataframe thead th {\n",
              "        text-align: right;\n",
              "    }\n",
              "</style>\n",
              "<table border=\"1\" class=\"dataframe\">\n",
              "  <thead>\n",
              "    <tr style=\"text-align: right;\">\n",
              "      <th></th>\n",
              "      <th>id</th>\n",
              "      <th>predicted</th>\n",
              "    </tr>\n",
              "  </thead>\n",
              "  <tbody>\n",
              "    <tr>\n",
              "      <th>0</th>\n",
              "      <td>6607</td>\n",
              "      <td>0</td>\n",
              "    </tr>\n",
              "    <tr>\n",
              "      <th>1</th>\n",
              "      <td>154</td>\n",
              "      <td>1</td>\n",
              "    </tr>\n",
              "    <tr>\n",
              "      <th>2</th>\n",
              "      <td>7402</td>\n",
              "      <td>0</td>\n",
              "    </tr>\n",
              "    <tr>\n",
              "      <th>3</th>\n",
              "      <td>2617</td>\n",
              "      <td>1</td>\n",
              "    </tr>\n",
              "    <tr>\n",
              "      <th>4</th>\n",
              "      <td>6464</td>\n",
              "      <td>0</td>\n",
              "    </tr>\n",
              "  </tbody>\n",
              "</table>\n",
              "</div>"
            ],
            "text/plain": [
              "     id  predicted\n",
              "0  6607          0\n",
              "1   154          1\n",
              "2  7402          0\n",
              "3  2617          1\n",
              "4  6464          0"
            ]
          },
          "metadata": {
            "tags": []
          },
          "execution_count": 25
        }
      ]
    },
    {
      "cell_type": "code",
      "metadata": {
        "colab": {
          "base_uri": "https://localhost:8080/",
          "height": 17
        },
        "id": "RKtdKCTYUwGq",
        "outputId": "463042bd-9b0d-4e23-8f28-4a2cb2644bfa"
      },
      "source": [
        "# Download predictions file to your local computer\r\n",
        "\r\n",
        "from google.colab import files\r\n",
        "files.download('my_submission.csv')"
      ],
      "execution_count": null,
      "outputs": [
        {
          "output_type": "display_data",
          "data": {
            "application/javascript": [
              "\n",
              "    async function download(id, filename, size) {\n",
              "      if (!google.colab.kernel.accessAllowed) {\n",
              "        return;\n",
              "      }\n",
              "      const div = document.createElement('div');\n",
              "      const label = document.createElement('label');\n",
              "      label.textContent = `Downloading \"${filename}\": `;\n",
              "      div.appendChild(label);\n",
              "      const progress = document.createElement('progress');\n",
              "      progress.max = size;\n",
              "      div.appendChild(progress);\n",
              "      document.body.appendChild(div);\n",
              "\n",
              "      const buffers = [];\n",
              "      let downloaded = 0;\n",
              "\n",
              "      const channel = await google.colab.kernel.comms.open(id);\n",
              "      // Send a message to notify the kernel that we're ready.\n",
              "      channel.send({})\n",
              "\n",
              "      for await (const message of channel.messages) {\n",
              "        // Send a message to notify the kernel that we're ready.\n",
              "        channel.send({})\n",
              "        if (message.buffers) {\n",
              "          for (const buffer of message.buffers) {\n",
              "            buffers.push(buffer);\n",
              "            downloaded += buffer.byteLength;\n",
              "            progress.value = downloaded;\n",
              "          }\n",
              "        }\n",
              "      }\n",
              "      const blob = new Blob(buffers, {type: 'application/binary'});\n",
              "      const a = document.createElement('a');\n",
              "      a.href = window.URL.createObjectURL(blob);\n",
              "      a.download = filename;\n",
              "      div.appendChild(a);\n",
              "      a.click();\n",
              "      div.remove();\n",
              "    }\n",
              "  "
            ],
            "text/plain": [
              "<IPython.core.display.Javascript object>"
            ]
          },
          "metadata": {
            "tags": []
          }
        },
        {
          "output_type": "display_data",
          "data": {
            "application/javascript": [
              "download(\"download_5f56fcc5-186e-46e8-86c4-e967ade70f01\", \"my_submission.csv\", 4552)"
            ],
            "text/plain": [
              "<IPython.core.display.Javascript object>"
            ]
          },
          "metadata": {
            "tags": []
          }
        }
      ]
    },
    {
      "cell_type": "code",
      "metadata": {
        "colab": {
          "base_uri": "https://localhost:8080/"
        },
        "id": "Y7F5ZgWwxnD2",
        "outputId": "b8388148-73ee-4952-ea90-5bf31709906f"
      },
      "source": [
        "print(datetime.datetime.now())"
      ],
      "execution_count": null,
      "outputs": [
        {
          "output_type": "stream",
          "text": [
            "2021-02-24 14:26:42.500223\n"
          ],
          "name": "stdout"
        }
      ]
    }
  ]
}
